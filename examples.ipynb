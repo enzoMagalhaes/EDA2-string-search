{
 "cells": [
  {
   "cell_type": "code",
   "execution_count": 2,
   "metadata": {},
   "outputs": [],
   "source": [
    "from src.BoyerMoore import BM\n",
    "from src.BoyerMooreHorspool import BMH\n",
    "from src.RabinKarp import RK\n",
    "from src.KnuthMorrisPratis import KMP"
   ]
  },
  {
   "cell_type": "code",
   "execution_count": 4,
   "metadata": {},
   "outputs": [
    {
     "name": "stdout",
     "output_type": "stream",
     "text": [
      "Pattern not found in the text.\n",
      "Pattern found at index 10\n",
      "Pattern found at index 10\n",
      "Pattern found at index 10\n"
     ]
    }
   ],
   "source": [
    "def test_string(algorithm,text,pattern):\n",
    "    result = algorithm.search(text, pattern)\n",
    "\n",
    "    if result != -1:\n",
    "        print(f\"Pattern found at index {result}\")\n",
    "    else:\n",
    "        print(\"Pattern not found in the text.\")\n",
    "\n",
    "\n",
    "# Example\n",
    "text = \"ABABDABACDABABCABAB\"\n",
    "pattern = \"ABABCABAB\"\n",
    "\n",
    "test_string(algorithm=BM,text=text,pattern=pattern)\n",
    "test_string(algorithm=BMH,text=text,pattern=pattern)\n",
    "test_string(algorithm=RK,text=text,pattern=pattern)\n",
    "test_string(algorithm=KMP,text=text,pattern=pattern)"
   ]
  }
 ],
 "metadata": {
  "kernelspec": {
   "display_name": "Python 3",
   "language": "python",
   "name": "python3"
  },
  "language_info": {
   "codemirror_mode": {
    "name": "ipython",
    "version": 3
   },
   "file_extension": ".py",
   "mimetype": "text/x-python",
   "name": "python",
   "nbconvert_exporter": "python",
   "pygments_lexer": "ipython3",
   "version": "3.10.12"
  },
  "orig_nbformat": 4
 },
 "nbformat": 4,
 "nbformat_minor": 2
}
