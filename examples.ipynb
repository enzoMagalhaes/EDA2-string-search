{
 "cells": [
  {
   "cell_type": "code",
   "execution_count": 5,
   "metadata": {},
   "outputs": [],
   "source": [
    "from src.BoyerMoore import BM\n",
    "from src.BoyerMooreHorspool import BMH\n",
    "from src.RabinKarp import RK\n",
    "from src.KnuthMorrisPratis import KMP"
   ]
  },
  {
   "cell_type": "code",
   "execution_count": 11,
   "metadata": {},
   "outputs": [
    {
     "name": "stdout",
     "output_type": "stream",
     "text": [
      "Pattern found at index [10]\n",
      "num of iterations: 12\n",
      "Pattern found at index [10]\n",
      "num of iterations: 20\n",
      "Pattern found at index [10]\n",
      "num of iterations: 21\n",
      "Pattern found at index [10]\n",
      "num of iterations: 23\n"
     ]
    }
   ],
   "source": [
    "def test_string(algorithm,text,pattern):\n",
    "    algo = algorithm()\n",
    "    result = algo.search(text, pattern)\n",
    "\n",
    "    if result != -1:\n",
    "        print(f\"Pattern found at index {result}\")\n",
    "    else:\n",
    "        print(\"Pattern not found in the text.\")\n",
    "\n",
    "    print(f\"num of iterations: {algo.iteration_counter}\")\n",
    "\n",
    "# Example\n",
    "text = \"ABABDABACDABABCABAB\"\n",
    "pattern = \"ABABCABAB\"\n",
    "\n",
    "test_string(algorithm=BM,text=text,pattern=pattern)\n",
    "test_string(algorithm=BMH,text=text,pattern=pattern)\n",
    "test_string(algorithm=RK,text=text,pattern=pattern)\n",
    "test_string(algorithm=KMP,text=text,pattern=pattern)"
   ]
  },
  {
   "cell_type": "code",
   "execution_count": null,
   "metadata": {},
   "outputs": [],
   "source": []
  }
 ],
 "metadata": {
  "kernelspec": {
   "display_name": "Python 3",
   "language": "python",
   "name": "python3"
  },
  "language_info": {
   "codemirror_mode": {
    "name": "ipython",
    "version": 3
   },
   "file_extension": ".py",
   "mimetype": "text/x-python",
   "name": "python",
   "nbconvert_exporter": "python",
   "pygments_lexer": "ipython3",
   "version": "3.10.12"
  },
  "orig_nbformat": 4
 },
 "nbformat": 4,
 "nbformat_minor": 2
}
